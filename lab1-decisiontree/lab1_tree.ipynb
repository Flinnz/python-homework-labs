{
  "nbformat": 4,
  "nbformat_minor": 0,
  "metadata": {
    "kernelspec": {
      "display_name": "Python 3",
      "language": "python",
      "name": "python3"
    },
    "language_info": {
      "codemirror_mode": {
        "name": "ipython",
        "version": 3
      },
      "file_extension": ".py",
      "mimetype": "text/x-python",
      "name": "python",
      "nbconvert_exporter": "python",
      "pygments_lexer": "ipython3",
      "version": "3.7.4"
    },
    "colab": {
      "name": "lab1_tree.ipynb",
      "provenance": [],
      "toc_visible": true
    }
  },
  "cells": [
    {
      "cell_type": "markdown",
      "metadata": {
        "id": "ehbVu3SqWVBn"
      },
      "source": [
        "# Решающее дерево"
      ]
    },
    {
      "cell_type": "markdown",
      "metadata": {
        "id": "_tFHEHhJWVBp"
      },
      "source": [
        "### Примечание\n",
        "### #\n",
        "Данная лабораторная работа не относится напрямую к изучению питона в целом или какого то конкретного модуля. Задача взята из курса по машинному обучению.\n",
        "Здесь я хочу проверить ваши умения разбираться в предлагаемом алгоритме и навыки в реализации этих алгоритмов.\n",
        "Проведем эксперимент и посмотрим на результат. Если будут возникать непреодолимые трудности, то просьба не прибегать к копированию решений из интернета, а обртиться за помощью к коллегам либо преподавателю.\n",
        "### #"
      ]
    },
    {
      "cell_type": "markdown",
      "metadata": {
        "id": "FI4YVLBWWVBq"
      },
      "source": [
        "Отметим, что решающее дерево состоит из вершин, в которых записывает некоторое условие, а в листах дерева - прогноз. Условия во внутренних вершинах выбираются простыми. Наиболее частый вариант - проверка лежит ли значение некоторого признака $x^j$ левее порога $t$:\n",
        "\n",
        "$[x^j \\leq t]$\n",
        "\n",
        "Легко заметить, что такое условие зависит только от одного признака. Прогноз в листе является вещественным числом, если решается задача регрессии. Если же решается задача классификации, то в качестве прогноза выступает или класс или распределение вероятностей классов.\n",
        "\n",
        "Запишем некоторую функцию ошибки следующим образом: есть набор данных $X_m$, есть номер рассматриваемого признака $j$ и есть порог $t$.\n",
        "\n",
        "$L(X_m, j, t) \\rightarrow \\underset{j,t}{min}$\n",
        "\n",
        "Осуществим перебор всех возможных признаков $j$ и порогов $t$ для этих признаков. Каждый раз исходное множество будет разбиваться на два подмножества:\n",
        "\n",
        "$X_l = \\{x \\in X_m | [ x^j \\leq t ] \\}$ и $X_к = \\{x \\in X_m | [ x^j > t ] \\}$\n",
        "\n",
        "Такую процедуру можно продолжить для каждого получившегося множества (рекурсивно вызывать функцию деления для получающихся подмножеств).\n",
        "\n",
        "Необходимо отметить, что если вершина была объявлена листом, необходимо сделать прогноз для этого листа. Для задачи регрессии берется среднее значение по этой выборке,\n",
        "для задачи классификации возвращается тот класс, которые наиболее популярен в выборке. Можно указывать вероятность классов в листе.\n",
        "\n",
        "Для каждого разбиения необходимо расчитывать функцию потерь:\n",
        "\n",
        "$L(X_m, j, t) = \\frac{|X_l|}{|X_m|}H(X_l) + \\frac{|X_r|}{|X_m|}H(X_r)$,\n",
        "\n",
        "где $H(X)=\\sum\\limits_{k=1}^{K} p_k(1 - p_k)$ - критерий информативности Джинни.\n",
        "\n",
        "$p_k$ - доля объектов класса $k$ в выборке X:\n",
        "\n",
        "$p_k=\\frac{1}{|X|}\\sum\\limits_{i \\in X}{[y_i = k]}$\n",
        "\n",
        "В задаче работаем только с числовыми данными и строим дерево классификации.\n",
        "\n",
        "Данные сгенерированы случайным образом."
      ]
    },
    {
      "cell_type": "code",
      "metadata": {
        "id": "l8rjhYz_WVBr",
        "outputId": "d6522c42-b3de-4257-e8f4-869438e3c454",
        "colab": {
          "base_uri": "https://localhost:8080/",
          "height": 282
        }
      },
      "source": [
        "from sklearn.datasets import make_blobs, make_moons, make_multilabel_classification\n",
        "import matplotlib.pyplot as plt\n",
        "import numpy as np\n",
        "%matplotlib inline\n",
        "\n",
        "x, y = make_moons(n_samples=100, noise=0.1)\n",
        "#x, y = make_blobs(n_samples=10000, n_features=2)\n",
        "plt.scatter(x[:,0], x[:,1], c = y)"
      ],
      "execution_count": 91,
      "outputs": [
        {
          "output_type": "execute_result",
          "data": {
            "text/plain": [
              "<matplotlib.collections.PathCollection at 0x7fa0c1bde1d0>"
            ]
          },
          "metadata": {
            "tags": []
          },
          "execution_count": 91
        },
        {
          "output_type": "display_data",
          "data": {
            "image/png": "[encoded data removed]",
            "text/plain": [
              "<Figure size 432x288 with 1 Axes>"
            ]
          },
          "metadata": {
            "tags": [],
            "needs_background": "light"
          }
        }
      ]
    },
    {
      "cell_type": "markdown",
      "metadata": {
        "id": "Cjhq6dG2WVBy"
      },
      "source": [
        "\n",
        "## Задание\n",
        "\n",
        "Напишите класс дерева, который реализует метод train, которая получает на вход матрицу данных ($x$) и целевые переменные ($y$), на выходе функция возвращает дерево в виде словаря в каждом случае записывается номер признака ($i$), порог разбиения($t$), значение в листовой вершине слева ($y_l$) и значение в листовой вершине справа ($y_r$). Вместо занчения в листовой вершине может содержаться следующий словарь с теми же ключами и так далее.\n",
        "\n",
        "Необходимо учесть:\n",
        "\n",
        "1. Возможность строить дерево строго определенной глубины и возможность указать максимальное количество объектов в листовой вершине.\n",
        "2. Пороги разбиения должны лежать строго по середине между ближайшими обектами.\n",
        "3. Разбиений не требуется, если в получившемся множестве находятся объекты одного класса.\n",
        "4. Количество различных классов объектов в целевой переменной может быть больше двух.\n"
      ]
    },
    {
      "cell_type": "code",
      "metadata": {
        "id": "P7K9U7GZWVBz"
      },
      "source": [
        "class Tree:\n",
        "    def __init__(self, depth=None, min_num_leaf=1):\n",
        "        self.depth = depth\n",
        "        self.min_num_leaf = min_num_leaf # пока не понимаю, что это такое и как это реализовывать\n",
        "\n",
        "    def _get_cardinality(self, x):\n",
        "        return len(x)\n",
        "\n",
        "    def _get_gini(self,\n",
        "                  x_cardinality,\n",
        "                  classes):\n",
        "        gini_value = 0\n",
        "        for class_ in classes.items():\n",
        "            inclass_count = class_[1]\n",
        "            partition = inclass_count/x_cardinality\n",
        "            gini_value += (partition*(1-partition)) \n",
        "        return gini_value\n",
        "    \n",
        "    def _get_losses_value(self,\n",
        "                          x_left_cardinality,\n",
        "                          x_right_cardinality,\n",
        "                          x_parent_cardinality,\n",
        "                          left_classes,\n",
        "                          right_classes):\n",
        "        left_gini = self._get_gini(x_left_cardinality,\n",
        "                                   left_classes)\n",
        "        left_loss = (x_left_cardinality/x_parent_cardinality)*left_gini\n",
        "\n",
        "        right_gini = self._get_gini(x_right_cardinality,\n",
        "                                    right_classes)\n",
        "        right_loss = (x_right_cardinality/x_parent_cardinality)*right_gini\n",
        "\n",
        "        return left_loss + right_loss\n",
        "\n",
        "    def _count_classes(self, x_y, start=0, end=None, classes=set()):\n",
        "        end = len(x_y) if end == None else end\n",
        "        if start < 0 or end > len(x_y):\n",
        "            raise ValueError()\n",
        "        class_counter_dict = {s: 0 for s in classes}\n",
        "        for i in range(start, end):\n",
        "            entry = x_y[i]\n",
        "            entry_class = entry[len(entry)-1]\n",
        "            class_counter_dict[entry_class] += 1\n",
        "        return class_counter_dict\n",
        "\n",
        "\n",
        "    def _get_partition(self, x_y, classes): #O(f*n*log(n)) сделать разбивку на max_num_leaf*2^(depth-cur_depth)\n",
        "        minloss = 1\n",
        "        needed_threshold = 0\n",
        "        needed_j = 0  \n",
        "        split_index = 0\n",
        "        class_column_index = len(x_y[0])-1\n",
        "        for j in range(class_column_index):\n",
        "            localminloss = minloss\n",
        "            local_threshold = 0\n",
        "            local_split_index = 0\n",
        "            right_class_counts = self._count_classes(x_y,\n",
        "                                                     start=self.min_num_leaf-1,\n",
        "                                                     end=len(x_y),\n",
        "                                                     classes=classes)\n",
        "            left_class_counts = self._count_classes(x_y,\n",
        "                                                    start=0,\n",
        "                                                    end=self.min_num_leaf-1,\n",
        "                                                    classes=classes)\n",
        "            x_y = sorted(x_y, key=lambda s : s[j]) # перестать создавать копию\n",
        "            for i in range(self.min_num_leaf-1, len(x_y) - self.min_num_leaf):\n",
        "                t = (x_y[i][j] + x_y[i+1][j])/2\n",
        "                left_class_counts[x_y[i][class_column_index]] += 1\n",
        "                right_class_counts[x_y[i][class_column_index]] -= 1\n",
        "                x_y_cardinality = self._get_cardinality(x_y)\n",
        "                losses = self._get_losses_value(i+1,\n",
        "                                                x_y_cardinality - i - 1,\n",
        "                                                x_y_cardinality,\n",
        "                                                left_class_counts,\n",
        "                                                right_class_counts)\n",
        "                if localminloss > losses:\n",
        "                    localminloss = losses\n",
        "                    local_threshold = t\n",
        "                    local_split_index = i\n",
        "            if minloss > localminloss:\n",
        "                minloss = localminloss\n",
        "                needed_threshold = local_threshold\n",
        "                needed_j = j\n",
        "                split_index = local_split_index \n",
        "        x_y = sorted(x_y, key=lambda s: s[needed_j]) # перестать создавать копию        \n",
        "        return dict(t=needed_threshold,\n",
        "                    j=needed_j,\n",
        "                    left_subset=x_y[:split_index+1],\n",
        "                    right_subset=x_y[split_index+1:len(x_y)])\n",
        "\n",
        "    def _get_major_class(self, x_y, classes): #O(n)\n",
        "        class_counter_dict = self._count_classes(x_y, classes=classes)\n",
        "        max_class_count = -1\n",
        "        max_class = 0\n",
        "        for class_count in class_counter_dict.items():\n",
        "            if class_count[1] > max_class_count:\n",
        "                max_class = class_count[0]\n",
        "                max_class_count = class_count[1]\n",
        "        return dict(max_class=max_class,\n",
        "                    count=max_class_count)\n",
        "\n",
        "    def _build_tree(self, x_y, classes, cur_depth): #O(f*n*log^2n)\n",
        "        major_class_count = self._get_major_class(x_y, classes)\n",
        "        if (isinstance(self.min_num_leaf, int) and len(x_y) == self.min_num_leaf) or \\\n",
        "           (isinstance(self.depth, int) and cur_depth >= self.depth) or \\\n",
        "           (major_class_count[\"count\"] == len(x_y)):\n",
        "            return major_class_count[\"max_class\"]\n",
        "        partition_info = self._get_partition(x_y, classes)\n",
        "        lsubtree = self._build_tree(partition_info[\"left_subset\"],\n",
        "                                    classes,\n",
        "                                    cur_depth+1)\n",
        "        rsubtree = self._build_tree(partition_info[\"right_subset\"],\n",
        "                                    classes,\n",
        "                                    cur_depth+1)\n",
        "        return dict(i=partition_info[\"j\"],\n",
        "                    t=partition_info[\"t\"],\n",
        "                    yl = lsubtree,\n",
        "                    yr = rsubtree)\n",
        "\n",
        "    \n",
        "    def train(self, x, y):\n",
        "        classes = set(y)\n",
        "        x_y = np.concatenate((x, y.reshape(len(y),1)), axis=1)\n",
        "        self._tree = self._build_tree(x_y, classes, 0)\n",
        "        return self._tree\n",
        "\n",
        "    \n",
        "    def predict(self, x):\n",
        "        node = self._tree\n",
        "        while isinstance(node, dict):\n",
        "            if x[node[\"i\"]] <= node[\"t\"]:\n",
        "                node = node[\"yl\"]\n",
        "            else:\n",
        "                node = node[\"yr\"]\n",
        "        return node"
      ],
      "execution_count": 131,
      "outputs": []
    },
    {
      "cell_type": "markdown",
      "metadata": {
        "id": "C_UHxMY4WVB4"
      },
      "source": [
        "Постройте решающее дерево с глубиной 1, 2 и 3.\n",
        "\n",
        "Визуализируйте получившиеся результаты классификатора на плоскости. Для этого воспользуйтесь кодом ниже, чтобы построить поверхность. $t$ - порог разбиения $i$ - номер признака."
      ]
    },
    {
      "cell_type": "markdown",
      "metadata": {
        "id": "G1c0Fpa3-Ja8"
      },
      "source": [
        "Код ниже - это склерновское дерево решений, нужно было только для того, чтобы сравнить картинку"
      ]
    },
    {
      "cell_type": "code",
      "metadata": {
        "id": "_TGdmilq3vKp",
        "outputId": "c0ca697d-91cc-4fdf-c464-dfda6d845757",
        "colab": {
          "base_uri": "https://localhost:8080/",
          "height": 282
        }
      },
      "source": [
        "from sklearn import tree\n",
        "clf = tree.DecisionTreeClassifier(max_depth=10)\n",
        "clf.fit(x, y)\n",
        "def tree_clf(x):\n",
        "    y_pred = list()\n",
        "    for it in x.transpose():\n",
        "        cx = clf.predict(it.reshape(1, -1))\n",
        "        y_pred.append(cx) # Пока дерево классифицирует случайный класс.\n",
        "    return np.array(y_pred)\n",
        "\n",
        "\n",
        "h = .02\n",
        "x0_min, x0_max = np.min(x[:,0]) - 1, np.max(x[:,0]) + 1\n",
        "x1_min, x1_max = np.min(x[:,1]) - 1, np.max(x[:,1]) + 1\n",
        "xx0, xx1 = np.meshgrid(np.arange(x0_min, x0_max, h),\n",
        "                         np.arange(x1_min, x1_max, h))\n",
        "\n",
        "Z = tree_clf(np.stack((xx0.ravel(),xx1.ravel())))\n",
        "\n",
        "Z = Z.reshape(xx0.shape)\n",
        "cm = plt.cm.RdBu\n",
        "plt.contourf(xx0, xx1, Z, cmap=cm, alpha=.8)\n",
        "plt.scatter(x[:,0], x[:,1], c = y)\n"
      ],
      "execution_count": 139,
      "outputs": [
        {
          "output_type": "execute_result",
          "data": {
            "text/plain": [
              "<matplotlib.collections.PathCollection at 0x7fa0c2390dd8>"
            ]
          },
          "metadata": {
            "tags": []
          },
          "execution_count": 139
        },
        {
          "output_type": "display_data",
          "data": {
            "image/png": "[encoded data removed]",
            "text/plain": [
              "<Figure size 432x288 with 1 Axes>"
            ]
          },
          "metadata": {
            "tags": [],
            "needs_background": "light"
          }
        }
      ]
    },
    {
      "cell_type": "markdown",
      "metadata": {
        "id": "741fwNFs-VCz"
      },
      "source": [
        "Полученная картинка"
      ]
    },
    {
      "cell_type": "code",
      "metadata": {
        "id": "iFCgrVTPWVB5",
        "outputId": "ec23c95d-7917-4c68-b8ad-82d3672b2fb0",
        "colab": {
          "base_uri": "https://localhost:8080/",
          "height": 319
        }
      },
      "source": [
        "tree = Tree()\n",
        "print(tree.train(x, y))\n",
        "def tree_clf(x):\n",
        "    y_pred = list()\n",
        "    for it in x.transpose():\n",
        "        y_pred.append(tree.predict(it)) \n",
        "    return np.array(y_pred)\n",
        "\n",
        "\n",
        "h = .02\n",
        "x0_min, x0_max = np.min(x[:,0]) - 1, np.max(x[:,0]) + 1\n",
        "x1_min, x1_max = np.min(x[:,1]) - 1, np.max(x[:,1]) + 1\n",
        "xx0, xx1 = np.meshgrid(np.arange(x0_min, x0_max, h),\n",
        "                         np.arange(x1_min, x1_max, h))\n",
        "\n",
        "Z = tree_clf(np.stack((xx0.ravel(),xx1.ravel())))\n",
        "\n",
        "Z = Z.reshape(xx0.shape)\n",
        "cm = plt.cm.RdBu\n",
        "plt.contourf(xx0, xx1, Z, cmap=cm, alpha=.8)\n",
        "plt.scatter(x[:,0], x[:,1], c = y)\n"
      ],
      "execution_count": 138,
      "outputs": [
        {
          "output_type": "stream",
          "text": [
            "{'i': 1, 't': 0.24478382392374415, 'yl': {'i': 0, 't': -0.4093507219757191, 'yl': 0, 'yr': {'i': 1, 't': 0.13329909210956747, 'yl': 1, 'yr': {'i': 1, 't': 0.16606852966598296, 'yl': {'i': 0, 't': 0.5242165990787072, 'yl': 1, 'yr': 0}, 'yr': 1}}}, 'yr': {'i': 0, 't': 1.4437289582557646, 'yl': {'i': 1, 't': 0.5166055708573116, 'yl': {'i': 1, 't': 0.4947291836224281, 'yl': {'i': 1, 't': 0.4017142537612842, 'yl': 0, 'yr': {'i': 0, 't': 0.3890621796611798, 'yl': {'i': 0, 't': -0.5237636587974461, 'yl': 0, 'yr': 1}, 'yr': 0}}, 'yr': 1}, 'yr': 0}, 'yr': 1}}\n"
          ],
          "name": "stdout"
        },
        {
          "output_type": "execute_result",
          "data": {
            "text/plain": [
              "<matplotlib.collections.PathCollection at 0x7fa0c113bba8>"
            ]
          },
          "metadata": {
            "tags": []
          },
          "execution_count": 138
        },
        {
          "output_type": "display_data",
          "data": {
            "image/png": "[encoded data removed]",
            "text/plain": [
              "<Figure size 432x288 with 1 Axes>"
            ]
          },
          "metadata": {
            "tags": [],
            "needs_background": "light"
          }
        }
      ]
    },
    {
      "cell_type": "markdown",
      "metadata": {
        "id": "nA-YvpGEVcFD"
      },
      "source": [
        ""
      ]
    }
  ]
}