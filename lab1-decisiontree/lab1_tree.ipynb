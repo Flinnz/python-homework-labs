{
  "nbformat": 4,
  "nbformat_minor": 0,
  "metadata": {
    "kernelspec": {
      "display_name": "Python 3",
      "language": "python",
      "name": "python3"
    },
    "language_info": {
      "codemirror_mode": {
        "name": "ipython",
        "version": 3
      },
      "file_extension": ".py",
      "mimetype": "text/x-python",
      "name": "python",
      "nbconvert_exporter": "python",
      "pygments_lexer": "ipython3",
      "version": "3.7.4"
    },
    "colab": {
      "name": "lab1_tree.ipynb",
      "provenance": []
    }
  },
  "cells": [
    {
      "cell_type": "markdown",
      "metadata": {
        "id": "ehbVu3SqWVBn"
      },
      "source": [
        "# Решающее дерево"
      ]
    },
    {
      "cell_type": "markdown",
      "metadata": {
        "id": "_tFHEHhJWVBp"
      },
      "source": [
        "### Примечание\n",
        "### #\n",
        "Данная лабораторная работа не относится напрямую к изучению питона в целом или какого то конкретного модуля. Задача взята из курса по машинному обучению.\n",
        "Здесь я хочу проверить ваши умения разбираться в предлагаемом алгоритме и навыки в реализации этих алгоритмов.\n",
        "Проведем эксперимент и посмотрим на результат. Если будут возникать непреодолимые трудности, то просьба не прибегать к копированию решений из интернета, а обртиться за помощью к коллегам либо преподавателю.\n",
        "### #"
      ]
    },
    {
      "cell_type": "markdown",
      "metadata": {
        "id": "FI4YVLBWWVBq"
      },
      "source": [
        "Отметим, что решающее дерево состоит из вершин, в которых записывает некоторое условие, а в листах дерева - прогноз. Условия во внутренних вершинах выбираются простыми. Наиболее частый вариант - проверка лежит ли значение некоторого признака $x^j$ левее порога $t$:\n",
        "\n",
        "$[x^j \\leq t]$\n",
        "\n",
        "Легко заметить, что такое условие зависит только от одного признака. Прогноз в листе является вещественным числом, если решается задача регрессии. Если же решается задача классификации, то в качестве прогноза выступает или класс или распределение вероятностей классов.\n",
        "\n",
        "Запишем некоторую функцию ошибки следующим образом: есть набор данных $X_m$, есть номер рассматриваемого признака $j$ и есть порог $t$.\n",
        "\n",
        "$L(X_m, j, t) \\rightarrow \\underset{j,t}{min}$\n",
        "\n",
        "Осуществим перебор всех возможных признаков $j$ и порогов $t$ для этих признаков. Каждый раз исходное множество будет разбиваться на два подмножества:\n",
        "\n",
        "$X_l = \\{x \\in X_m | [ x^j \\leq t ] \\}$ и $X_к = \\{x \\in X_m | [ x^j > t ] \\}$\n",
        "\n",
        "Такую процедуру можно продолжить для каждого получившегося множества (рекурсивно вызывать функцию деления для получающихся подмножеств).\n",
        "\n",
        "Необходимо отметить, что если вершина была объявлена листом, необходимо сделать прогноз для этого листа. Для задачи регрессии берется среднее значение по этой выборке,\n",
        "для задачи классификации возвращается тот класс, которые наиболее популярен в выборке. Можно указывать вероятность классов в листе.\n",
        "\n",
        "Для каждого разбиения необходимо расчитывать функцию потерь:\n",
        "\n",
        "$L(X_m, j, t) = \\frac{|X_l|}{|X_m|}H(X_l) + \\frac{|X_r|}{|X_m|}H(X_r)$,\n",
        "\n",
        "где $H(X)=\\sum\\limits_{k=1}^{K} p_k(1 - p_k)$ - критерий информативности Джинни.\n",
        "\n",
        "$p_k$ - доля объектов класса $k$ в выборке X:\n",
        "\n",
        "$p_k=\\frac{1}{|X|}\\sum\\limits_{i \\in X}{[y_i = k]}$\n",
        "\n",
        "В задаче работаем только с числовыми данными и строим дерево классификации.\n",
        "\n",
        "Данные сгенерированы случайным образом."
      ]
    },
    {
      "cell_type": "code",
      "metadata": {
        "id": "l8rjhYz_WVBr",
        "outputId": "d9b4594a-f875-4bce-a4f5-99f19aa2b122",
        "colab": {
          "base_uri": "https://localhost:8080/",
          "height": 286
        }
      },
      "source": [
        "from sklearn.datasets import make_blobs, make_moons\n",
        "import matplotlib.pyplot as plt\n",
        "import numpy as np\n",
        "%matplotlib inline\n",
        "\n",
        "x, y = make_moons(n_samples=100, noise=0.1)\n",
        "plt.scatter(x[:,0], x[:,1], c = y)"
      ],
      "execution_count": 179,
      "outputs": [
        {
          "output_type": "execute_result",
          "data": {
            "text/plain": [
              "<matplotlib.collections.PathCollection at 0x7fae6998dbe0>"
            ]
          },
          "metadata": {
            "tags": []
          },
          "execution_count": 179
        },
        {
          "output_type": "display_data",
          "data": {
            "image/png": "[encoded data removed]",
            "text/plain": [
              "<Figure size 432x288 with 1 Axes>"
            ]
          },
          "metadata": {
            "tags": [],
            "needs_background": "light"
          }
        }
      ]
    },
    {
      "cell_type": "markdown",
      "metadata": {
        "id": "Cjhq6dG2WVBy"
      },
      "source": [
        "\n",
        "## Задание\n",
        "\n",
        "Напишите класс дерева, который реализует метод train, которая получает на вход матрицу данных ($x$) и целевые переменные ($y$), на выходе функция возвращает дерево в виде словаря в каждом случае записывается номер признака ($i$), порог разбиения($t$), значение в листовой вершине слева ($y_l$) и значение в листовой вершине справа ($y_r$). Вместо занчения в листовой вершине может содержаться следующий словарь с теми же ключами и так далее.\n",
        "\n",
        "Необходимо учесть:\n",
        "\n",
        "1. Возможность строить дерево строго определенной глубины и возможность указать максимальное количество объектов в листовой вершине.\n",
        "2. Пороги разбиения должны лежать строго по середине между ближайшими обектами.\n",
        "3. Разбиений не требуется, если в получившемся множестве находятся объекты одного класса.\n",
        "4. Количество различных классов объектов в целевой переменной может быть больше двух.\n"
      ]
    },
    {
      "cell_type": "code",
      "metadata": {
        "id": "P7K9U7GZWVBz"
      },
      "source": [
        "class Tree:\n",
        "    def __init__(self, depth=1, max_num_leaf=1):\n",
        "        self.depth = depth\n",
        "        self.max_num_leaf = max_num_leaf # пока не понимаю, что это такое и как это реализовывать\n",
        "\n",
        "    def _get_cardinality(self, x):\n",
        "        return len(x)\n",
        "\n",
        "    def _get_gini(self, x, classes):\n",
        "        cardinality = self._get_cardinality(x)\n",
        "        gini_value = 0\n",
        "        for class_ in classes: #надо убрать постоянный пересчёт элементов в классах\n",
        "            inclass = 0\n",
        "            for elem in x:\n",
        "                if elem[len(elem)-1] == class_:\n",
        "                    inclass = inclass+1\n",
        "            partition = inclass/cardinality\n",
        "            gini_value = gini_value + (partition*(1-partition)) \n",
        "        return gini_value\n",
        "    \n",
        "    def _get_losses_value(self, x_left, x_right, x_parent, classes):\n",
        "        x_left_cardinality = self._get_cardinality(x_left)\n",
        "        x_right_cardinality = self._get_cardinality(x_right)\n",
        "        x_parent_cardinality = self._get_cardinality(x_parent)\n",
        "        left_loss = (x_left_cardinality/x_parent_cardinality)*self._get_gini(x_left, classes)\n",
        "        right_loss = (x_right_cardinality/x_parent_cardinality)*self._get_gini(x_right, classes)\n",
        "        return left_loss + right_loss\n",
        "\n",
        "    def _loss(self, x_y, classes):\n",
        "        minloss = 2\n",
        "        needed_threshold = 0\n",
        "        needed_j = 0\n",
        "        right_subset = x_y\n",
        "        left_subset = x_y \n",
        "        for j in range(len(x_y[0])-1):\n",
        "            localminloss = minloss\n",
        "            local_threshold = 0\n",
        "            local_right_subset = x_y\n",
        "            local_left_subset = x_y \n",
        "            x_y = sorted(x_y, key=lambda s : s[j]) # можно сортануть индексы основываясь на массиве и тогда можно искать только граничный индекс\n",
        "            for i in range(len(x_y)-1):\n",
        "                t = (x_y[i][j] + x_y[i+1][j])/2\n",
        "                xleft = x_y[:i+1] # можно не делить постоянно а подсчитывать классы и размеры\n",
        "                xright = x_y[i+1:len(x_y)]\n",
        "                losses = self._get_losses_value(xleft,xright,x_y, classes)\n",
        "                if localminloss > losses:\n",
        "                    localminloss = losses\n",
        "                    local_threshold = t\n",
        "                    local_right_subset = xright\n",
        "                    local_left_subset = xleft \n",
        "            if minloss > localminloss:\n",
        "                minloss = localminloss\n",
        "                needed_threshold = local_threshold\n",
        "                needed_j = j\n",
        "                right_subset = local_right_subset\n",
        "                left_subset = local_left_subset            \n",
        "        return (needed_threshold, needed_j, right_subset, left_subset)\n",
        "\n",
        "    def _get_major_class(self, x_y):\n",
        "        dd = dict()\n",
        "        for a in x_y:\n",
        "            if a[len(a)-1] not in dd:\n",
        "                dd[a[len(a)-1]] = 0\n",
        "            dd[a[len(a)-1]] = dd[a[len(a)-1]] + 1\n",
        "        mx = -1\n",
        "        cl = 0\n",
        "        for a in dd.items():\n",
        "            if a[1] > mx:\n",
        "                cl = a[0]\n",
        "                mx = a[1]\n",
        "        return (cl, mx)\n",
        "\n",
        "    def _build_tree(self, x_y, classes, cur_depth):\n",
        "        mj = self._get_major_class(x_y)\n",
        "        if cur_depth >= self.depth or mj[1] == len(x_y):\n",
        "            return mj[0]\n",
        "        xs = self._loss(x_y, classes)\n",
        "        lsubtree = self._build_tree(xs[3], classes, cur_depth+1)\n",
        "        rsubtree = self._build_tree(xs[2], classes, cur_depth+1)\n",
        "        return dict(j=xs[1], t=xs[0], yl = lsubtree, yr = rsubtree)\n",
        "\n",
        "    \n",
        "    def train(self, x, y):\n",
        "        classes = set(y)\n",
        "        x_y = np.concatenate((x, y.reshape(len(y),1)), axis=1)\n",
        "        self._tree = self._build_tree(x_y, classes, 0)\n",
        "        return self._tree\n",
        "\n",
        "    \n",
        "    def predict(self, x):\n",
        "        tt = self._tree\n",
        "        while isinstance(tt, dict):\n",
        "            if x[tt[\"j\"]] <= tt[\"t\"]:\n",
        "                tt = tt[\"yl\"]\n",
        "            else:\n",
        "                tt = tt[\"yr\"]\n",
        "        return tt"
      ],
      "execution_count": 182,
      "outputs": []
    },
    {
      "cell_type": "markdown",
      "metadata": {
        "id": "C_UHxMY4WVB4"
      },
      "source": [
        "Постройте решающее дерево с глубиной 1, 2 и 3.\n",
        "\n",
        "Визуализируйте получившиеся результаты классификатора на плоскости. Для этого воспользуйтесь кодом ниже, чтобы построить поверхность. $t$ - порог разбиения $i$ - номер признака."
      ]
    },
    {
      "cell_type": "markdown",
      "metadata": {
        "id": "HAZ1T_Cy-IO0"
      },
      "source": [
        ""
      ]
    },
    {
      "cell_type": "markdown",
      "metadata": {
        "id": "G1c0Fpa3-Ja8"
      },
      "source": [
        "Код ниже - это склерновское дерево решений, нужно было только для того, чтобы сравнить картинку"
      ]
    },
    {
      "cell_type": "code",
      "metadata": {
        "id": "_TGdmilq3vKp",
        "outputId": "488dcfb8-589a-4562-b269-eb1c6ba94536",
        "colab": {
          "base_uri": "https://localhost:8080/",
          "height": 282
        }
      },
      "source": [
        "from sklearn import tree\n",
        "clf = tree.DecisionTreeClassifier(max_depth=10)\n",
        "clf.fit(x, y)\n",
        "def tree_clf(x):\n",
        "    y_pred = list()\n",
        "    for it in x.transpose():\n",
        "        cx = clf.predict(it.reshape(1, -1))\n",
        "        y_pred.append(cx) # Пока дерево классифицирует случайный класс.\n",
        "    return np.array(y_pred)\n",
        "\n",
        "\n",
        "h = .02\n",
        "x0_min, x0_max = np.min(x[:,0]) - 1, np.max(x[:,0]) + 1\n",
        "x1_min, x1_max = np.min(x[:,1]) - 1, np.max(x[:,1]) + 1\n",
        "xx0, xx1 = np.meshgrid(np.arange(x0_min, x0_max, h),\n",
        "                         np.arange(x1_min, x1_max, h))\n",
        "\n",
        "Z = tree_clf(np.stack((xx0.ravel(),xx1.ravel())))\n",
        "\n",
        "Z = Z.reshape(xx0.shape)\n",
        "cm = plt.cm.RdBu\n",
        "plt.contourf(xx0, xx1, Z, cmap=cm, alpha=.8)\n",
        "plt.scatter(x[:,0], x[:,1], c = y)\n"
      ],
      "execution_count": 183,
      "outputs": [
        {
          "output_type": "execute_result",
          "data": {
            "text/plain": [
              "<matplotlib.collections.PathCollection at 0x7fae697fcc18>"
            ]
          },
          "metadata": {
            "tags": []
          },
          "execution_count": 183
        },
        {
          "output_type": "display_data",
          "data": {
            "image/png": "[encoded data removed]",
            "text/plain": [
              "<Figure size 432x288 with 1 Axes>"
            ]
          },
          "metadata": {
            "tags": [],
            "needs_background": "light"
          }
        }
      ]
    },
    {
      "cell_type": "markdown",
      "metadata": {
        "id": "741fwNFs-VCz"
      },
      "source": [
        "Полученная картинка"
      ]
    },
    {
      "cell_type": "code",
      "metadata": {
        "id": "iFCgrVTPWVB5",
        "outputId": "a7e06537-2161-4194-c036-1d8f3e979733",
        "colab": {
          "base_uri": "https://localhost:8080/",
          "height": 282
        }
      },
      "source": [
        "tree = Tree(depth=1323)\n",
        "tree.train(x, y)\n",
        "def tree_clf(x):\n",
        "    y_pred = list()\n",
        "    for it in x.transpose():\n",
        "        y_pred.append(tree.predict(it)) \n",
        "    return np.array(y_pred)\n",
        "\n",
        "\n",
        "h = .02\n",
        "x0_min, x0_max = np.min(x[:,0]) - 1, np.max(x[:,0]) + 1\n",
        "x1_min, x1_max = np.min(x[:,1]) - 1, np.max(x[:,1]) + 1\n",
        "xx0, xx1 = np.meshgrid(np.arange(x0_min, x0_max, h),\n",
        "                         np.arange(x1_min, x1_max, h))\n",
        "\n",
        "Z = tree_clf(np.stack((xx0.ravel(),xx1.ravel())))\n",
        "\n",
        "Z = Z.reshape(xx0.shape)\n",
        "cm = plt.cm.RdBu\n",
        "plt.contourf(xx0, xx1, Z, cmap=cm, alpha=.8)\n",
        "plt.scatter(x[:,0], x[:,1], c = y)\n"
      ],
      "execution_count": 184,
      "outputs": [
        {
          "output_type": "execute_result",
          "data": {
            "text/plain": [
              "<matplotlib.collections.PathCollection at 0x7fae69777550>"
            ]
          },
          "metadata": {
            "tags": []
          },
          "execution_count": 184
        },
        {
          "output_type": "display_data",
          "data": {
            "image/png": "[encoded data removed]",
            "text/plain": [
              "<Figure size 432x288 with 1 Axes>"
            ]
          },
          "metadata": {
            "tags": [],
            "needs_background": "light"
          }
        }
      ]
    }
  ]
}